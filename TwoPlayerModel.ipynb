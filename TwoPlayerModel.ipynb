{
  "nbformat": 4,
  "nbformat_minor": 0,
  "metadata": {
    "colab": {
      "provenance": [],
      "authorship_tag": "ABX9TyP2sK2Cax0aIX9cvkhOPAyn",
      "include_colab_link": true
    },
    "kernelspec": {
      "name": "python3",
      "display_name": "Python 3"
    },
    "language_info": {
      "name": "python"
    }
  },
  "cells": [
    {
      "cell_type": "markdown",
      "metadata": {
        "id": "view-in-github",
        "colab_type": "text"
      },
      "source": [
        "<a href=\"https://colab.research.google.com/github/anuragr81/research/blob/master/TwoPlayerModel.ipynb\" target=\"_parent\"><img src=\"https://colab.research.google.com/assets/colab-badge.svg\" alt=\"Open In Colab\"/></a>"
      ]
    },
    {
      "cell_type": "markdown",
      "source": [
        "# Objections to the earlier Approach\n",
        "\n",
        "First objection had been the non-pecuniary role of status that the model does not pay attention. The second objection was that promotions are hardly symmetrical to demotions (i.e. the rich hardly lose their position). The third objection was that there is no discount factor being discussed. Fourth objection was the there is always a middle-class in real-life that the model ignores.\n",
        "\n",
        "The issue highligted in the second and the third objections  can be resolved with considering a long-term period. \n",
        "\n",
        "# Summary of the two-player model \n",
        "\n",
        "Following are a few changes made in the current model:\n",
        "1. Unlike the previous model which relied calamitous risk to accumulated assets, the current model focues on assets not being passed bequest after life-time. In this model, the long-term social structures  which provide different incomes to different social classes (positions) are as stable as the life-time of individuals. \n",
        "\n",
        "2. While the previous model didn't allow the time-horizons for consumers to change, the current model adopts a more general approach to time-horizons - so that the resetting of wealth occurs at a general interval $T=\\tau$ rather than $T=2$. This assumes that both conumers start with zero $A_1=A_2=0 $ and another random variable $\\tau$ which is normally distributed around $\\mu_{\\tau}$. For any Monte-Carlo simulations used for solutions, $\\tau$ would be seen as a random variable rather than a fixed value. With this general view of $\\tau$, we  consider different values of $\\nu_1$, $\\nu_2$ in every period ($\\nu_{1,t\\in[1,\\tau]}$ and $\\nu_{2,t\\in[1,\\tau]}$), so that the inferences of consumption/effort towards status are made from the total values of 'effort/investment' (i.e. $\\sum_t^\\tau\\nu_{1,t\\in[1,\\tau]}$ and total $\\sum_t^\\tau\\nu_{2,t\\in[1,\\tau]}$ (or equivalently, the respective averages). \n",
        "3.  Unlike the previous model, a particular shape of utility function is not assumed at the start. Instead, the simplest case if that of maximisation of assets for risk-neutral consumers. Utility functions with risk-aversion are to be introduced later along with relevant assumptions for consumer preferences.\n",
        "4. Unlike the previous model, we consider a simple case $\\omega=\\lambda=1 $ in the logistic function for promotion/demotion of consumers.\n",
        "5. The martingale requirement for expected asset maximisation (simplest case) is specified and the optimisation of total assets before the effort in next period is considered. \n",
        "\n",
        "\n",
        "Our discussion proceeds by first discussing the trivial case when players (consumers) maximise accumulated assets in the terminal state. A solution of the game is given by any values of  $\\nu_{1,t\\in[1,\\tau]}$ and $\\nu_{2,t\\in[1,\\tau]}$ that keep the long-term expected value of assets the same for both players (consumers). More details of the argument are provided in Section **Balance of long-term expectations**. This is aligned with the literature (e.g. St. Petersburg paradox) - in that the maximisation of terminal assets value does not represent the consumer behaviour well. In fact, is socio-economic history teaches us anything, then permanently low relative social positions (those that prevent higher income forever) seem to be a recurring cause of social unreset. We address the fundamental assumptions ...  **Consumer behaviour in the last period**.\n",
        "\n",
        "The current model also clarifies the resetting of wealth at the end of long-term horizon. While the previous model, argued for end-of-world scenario, the current model views the general long-term period $\\tau$ as the end-of-life for the consumer. The resetting of wealth merely represents the inability to transfer accumulated wealth to the progeny. Therefore, nothing else but one's social position is transmitted the progeny. This accommadates the objection made by dissimilarity between social and economic positions as well- since a significant number of players (consumers) may achieve a higher socio-economic position to earn higher but fail to transfer their social status towards the end-of-life. More details of this intepretation of long-term horizon is provided in section **Population Constraint**. The population constraint continues to apply in the same way in the current model. We do offer clarification about how the schemes of promotion and demotion for two players in the game reflect the proportion of rich and poor in a society. This is detailed in the section on **Proportions of rich and poor**.\n",
        "\n",
        "Instead of considering utility from effort and assets, we focus first on a limited horizon maximisation - i.e. the case of myopic players (consumers). The players (consumers) maximise assets in the beginning ($t<<\\tau$) but consider zero-bequest when closer to end-of-life.\n",
        "\n",
        "\n",
        "The goal of our model is to see how consumer behaviour changes with respect $\\Delta\\equiv y_2-y_1$. The fundamental assumption is that $y_1$ and $y_2$ are fixed  in the short-term horizon considered for the consumer. Outside of this short-term horizon $t$, which corresponds $\\nu_{1,t\\in[1,\\tau]}$ and $\\nu_{2,t\\in[1,\\tau]}$ for the two consumer, the values $y_1$ and $y_2$ may change.\n",
        "\n",
        "\n"
      ],
      "metadata": {
        "id": "ke7ia39o0rYc"
      }
    },
    {
      "cell_type": "markdown",
      "source": [
        "\n",
        "# Single-period maximisation of assets\n",
        "\n",
        "Unless the time-horizon considered by players (consumers) to set $\\nu_{1,t\\in[1,\\tau]}$ or $\\nu_{2,t\\in[1,\\tau]}$ extends to only the immediate next period, we cannot argue that the expected value assets for the players (consumers) after the reset would be $y_1$ and $y_2$ respectively. The assumption of single-period horizon for consumers addresses this objection - by letting consumers be concerned with the total assets only over the immediate next period. \n",
        "\n",
        "A single-period horizon means that the players(consumers) are not concerned with a  time-horizon over multiple time-periods. While the consideration of total assets accumulation over  multiple-horizons may require us to consider the risk-neutrality of the players'(consumers') preferences (allowing the expected assets to be a martingale over a risk-neutral probability measure through the Harrison-Pliska theorem), consumer's time-horizon being of single-period prevents the need to impose risk-neutrality by construction.\n",
        "\n",
        "Recall that at the end-of-life i.e. the period $\\tau$, the consumer cannot pass on the accumulated assets and must spend everything on the position."
      ],
      "metadata": {
        "id": "HZCpdp-ywpbG"
      }
    },
    {
      "cell_type": "markdown",
      "source": [
        "# Balance of long-term expectations\n",
        "\n",
        "A necessary implication of the long-term equilibrium is that at the start of the reset period, the long-term values of social positions are known to the consumer. Let these values be $\\mathscr{A}_1$ and $\\mathscr{A}_2$ for the poor and rich players (consumers). \n",
        "\n",
        "Indeed, if $\\mathscr{A}_1$ and $\\mathscr{A}_2$  are known to the consumers in the last period, then a long-term equilibrium is one where the risk-neutral  consumers are indifferent between the two social positions. In the simplest of these instances where we have $\\tau=2$ and the consumer is concerned with only one period before last, then this balance implies \n",
        "\n",
        "$ \\frac{e_2}{\\delta} W(\\nu_1)+ (1-W(\\nu_1))\\frac{e_1}{\\delta}+ y_1 - \\nu_1 = \\frac{e_1}{\\delta} L(\\nu_2)+ (1-L(\\nu_2))\\frac{e_2}{\\delta}- +y_2 - \\nu_2$\n",
        "\n",
        "where,\n",
        "\n",
        "\n",
        "$e_1=\\frac{W(y_1)\\mathscr{A}_2+(1-W(y_1))\\mathscr{A}_1}{\\delta}$\n",
        "\n",
        "\n",
        "$e_2=\\frac{L(y_2)\\mathscr{A}_1+(1-L(y_2))\\mathscr{A}_2}{\\delta}$\n",
        "\n",
        "Loosely speaking, if the consumers are fully aware of the long-term worth of their social positions, then a long-term behaviour reflects an indifference between social positions.\n",
        "\n",
        "Extending the above to $\\tau>2$ while maintaining the assumption that the short-term horizon is that of a single-period, we can argue that the balance condition would be maintained in every period. \n",
        "\n",
        "**It needs to be clarified whether the definitions of $e_1$ and $e_2$ imply after-effort amount or before-effort amount**. In case of the former, the poor and rich players (consumers) cannot be assumed to expect $y_1, y_2$ at the start of the period. Instead, they would expect the $y_1-\\nu_{1,1}$ and $y_2-\\nu_{2,1}$ respectively. Similarly, the consumers would attempt choose $\\nu_{1,1}$ and $\\nu_{2,1}$ to maximise $y_1-\\nu_{1,1}$ and $y_2-\\nu_{2,1}$ in the first period. Since  we have assumed that the terminal states $e_1$ and $e_2$ would be $y_1$ and $y_2$. The aftert-effort intepretation would mean that the amount be $y_1-\\nu_{1,1}$ and $y_2-\\nu_{2,1}$ for the poor and rich consumers (respectively) instead. The empirical solutions would then be derived at the Pareto efficient frontier by maximising $A_1+A_2$ in every period. Since, $A_1$ and $A_2$ are positive maximising $A_1$ and $A_2$ separately is the same as maximising $A_1+A_2$. However, this criteria does not differentiate between two solutions that correspond to the same $a_1+a_2$.\n",
        "\n",
        "This can be easily proved. Consider $\\mathbb{A}_1$  as the a range of values of $A_1$  out of which  $a_1 = max(\\mathbb{A_1})$  is chosen. Similarly consider  $\\mathbb{A_2}$ as the  range of values of $A_2$ out of which $a_2=max(\\mathbb{A}_2)$ is chosen. Consider values $a'_1$ and $a'_2$ that maximise $A_1+A_2$.  Taking any $a'_1\\ne a_1$ would result in a suboptimal $A_1+A_2$. Likewise, any $a'_2\\ne a_2$ would result in a suboptimal $A_1+A_2$. This means that $a_1$ and $a_2$ definitely maximise $A_1+A_2$. \n",
        "\n",
        "\n",
        "With the latter intepretation, the player( consumer) does not consider the $\\nu_{1,2}$ and $\\nu_{2,2}$ in maximising the accumulation after effort in the first period. Therefore, the players (consumers) maximise expected $y_1-\\nu_{1,1}+\\frac{y_1}{\\delta}$ and $y_2-\\nu_{2,1}+\\frac{y_2}{\\delta}$. In the last period, the consumers would maximise $y_1$ and $y_2$ - since their effort $\\nu_{1,T}$ and $\\nu_{2,T}$ have no role except through the promotion or demotion functions. The latter is far easier to solve - considering also that not having a strictly positive expectation from a non-zero $\\nu_{1,T}$ and $\\nu_{2,T}$ ensures that setting $\\nu_{1,T}=y_1$ and $\\nu_{2,T}=y_2$ is the optimal choice.\n",
        "\n",
        "To prove the converse  (that maximising $A_1+A_2$ selects maximal values $a_1$ and $a_2$) is also easy since $A_1+A_2$ cannot be maximised by selecting anything less than $a_1+a_2$. \n",
        "\n",
        "\n",
        "\n"
      ],
      "metadata": {
        "id": "MJ2IF_PxdUMD"
      }
    },
    {
      "cell_type": "markdown",
      "source": [
        "# Population constraint\n",
        "\n",
        "The population constraint in the current model kicks in at every single period rather than only in the longer $\\tau$. The population constraint is enforced on the players through $W(\\nu)$ and $L(\\nu)$ so that they  are constrained to choose $\\nu_1$ and $\\nu_2$ while satisfying the population-constraint $W(\\nu_1)=L(\\nu_2)$ in their short-term horizon (single period by construction). The logistic function translates into the simple constraint $\\nu_1+\\nu_2=\\underline{\\omega}+\\underline{\\lambda} \\equiv \\xi$ when imposing this constraint. \n",
        "\n",
        "The underlying basis for the assumption is that choices of $\\nu$ are independent of the life-time for the representative (average) consumer. In other words, regardless of which point in time the player (consumer) exercises her choice of $\\nu$, the choice is subjected to the population constraint in the same way.\n",
        "\n",
        "A logistic function used in the model provides a threshold function which increases (decreases) consumer's probability of promotion (demotion) with higher effort $\\nu$. It is worth emphasising that the promotion and demotions functions ($W(\\nu)$ and $L(\\nu)$  respectively) do not represent distributions of $\\nu$ - but are binary distributions with a mean modified by $\\nu$. The expectation of promotions is therefore defined for a particular $\\nu$ simply as $W(\\nu)(1)+(1-W(\\nu))(0)$.  The maximisation of assets in a single-period by the consumer responds to a threshold level consumption represented by $\\underline{\\omega}$ (or equivalently, $\\underline{\\lambda}$). Since we assume $\\omega=\\lambda$, we have that $\\nu_1+\\nu_2=\\underline{\\omega}+\\underline{\\lambda} \\equiv \\xi$. Simply put, the population constraint means that the pool of promotional-consumption is limited. \n",
        "\n",
        "\n",
        "\n",
        "\n",
        "\n",
        "One objection to this view may be that status competitions swapping the positions of rich and poor so frequently is unrealistic. Instead the condition $W(\\nu_1)>>L(\\nu_2)$ may seem more realistic i.e. the demotion probability is much lower (often negligible) compared to promotion probabilities. There are two issues with this objection. First, the rich and poor only represent the proportional populations in a closed economy. Therefore, the demotion of a rich player(consumer) of the representative consumer implied by the proportions of rich and poor in an economy. We explain this further in Section **Proportions of rich and poor**. Second, the existence of status competitions implies that a position-less economy does not arise in the long-term. \n",
        "\n",
        "The population constraint is interpreted simply as \n",
        "\n",
        "$W(\\nu_{1,t})=L(\\nu_{2,t})\\forall t\\in [1,\\tau]$\n",
        "\n",
        "In othe words, the consumers choose $\\nu_{1,t}$ and $\\nu_{2,t}$ so that the above condition holds true in the every period $t\\in[1,\\tau]$.\n",
        "\n",
        "As a side-note, contrast this with a more general formulation where the population constraint is imposed with $W(\\nu,\\Lambda)$ and $L(\\nu,\\Lambda)$ so that the total number of promotions and demotions are balanced out in the very long-term ( $\\Lambda$ (need not be the same as $\\tau$). Given that $E(\\sum_k^\\Lambda{ W(\\nu_{1,k})})=\\sum_k^\\Lambda{ E(W(\\nu_{1,k}))}$, the more population constraint would mean that \n",
        "\n",
        "$\\sum_t^\\Lambda{ W(\\nu_{1,t})}=\\sum_t^\\Lambda{ L(\\nu_{2,t})}\\equiv \\eta$\n",
        "\n",
        "\n",
        "## Proportions of rich and poor\n",
        "The population constraint need not be interpreted as the total number of people making the jump from poor to rich balanced by the those that become poor from being rich. Instead, the population constraint ensures only that there would always be some rich and poor consumers in the long-term. As long as there is a limit on the number of rich and poor, a constraint on $W(\\nu)$ and $L(\\nu)$ is necessary. In a population of fixed number of players (consumers) in a closed economy, a demotion does not need to imply loss of wealth (which is rare), but only a movement in the reference-point that makes one richer or poorer.\n",
        "\n",
        "The effects that increase in population of poor relative to rich - has on the promotions or demotions are exogenous in the model. If the per-capita rise in incomes does not keep up with growth of the poorer populations (relative to rich), then the demotions balancing out promotions at a lower level represents the situation where more consumers are considered poor while the becoming rich becomes harder (promotions decline as well). Likewise, if the per-capita rises rapidly for the poor, then more people may be considered rich and more (formerly) rich may be considered poor or demoted (because of rise in living-standards). The population constraint is only a constraint enforced by feasibility of status competitions rather.\n",
        "\n",
        "Another instance that may have an effect of promotion, is when rich escape to different venues in order to achieve a higher return to investmen -  a scenario when the poor become more numerous proportionally. The promotions may rise as a net result but would be quickly balanced by fall in demotions as the rich become more concentrated.\n",
        "\n"
      ],
      "metadata": {
        "id": "pkrRJ1_p1LFv"
      }
    },
    {
      "cell_type": "markdown",
      "source": [
        "# Ideas worked through to arrive at the model\n",
        "\n",
        "## Short-term Horizon and the Martingale Property of Assets\n",
        "If one were to consider a time-hoizon of more than one period, it is appropriate to use a time-period smaller than $\\tau$. At time $t$, therefore, the consumer is considered with zeroing of wealth only when $t \\ge \\tau-D $ where $D$ is the horizon over which the wealth is maximised. The Expected wealth is additive - but one also needs to ensure that the martingale property  holds i.e. maximising expected wealth in every period is the only way to maximised the entire wealth. This is because a consumer may find it more appropriate to take the risk of spending too much on effort early on. \n",
        "\n",
        "In asset pricing theory, one uses the risk-neutral probability measure to price the security. If we don't assume the consumers to be risk-neutral, then considering a  real-world probability requires us to transform the probability measure (using Girsanov Theroem). \n",
        "\n",
        "As such, the consumer is forced to spend all her income $y_1$ or $y_2$ on effort in the long-term period because she is force to not accumulate in the last period. The material choice for the consumer - therefore - is in the second last period, where she must choose between the discounted value of future wealth (if using a discount factor $\\delta$) and the current contribution to assets. Therefore, the consumer 1 would maximise $y_1-\\nu_{1,\\tau-1} + W(\\nu_{1,\\tau-1})\\frac{e_2}{\\delta}+(1-W(\\nu_{1,\\tau-1}))\\frac{e_1}{\\delta} $ in period $t=\\tau-1$ - where $e_1$,$e_2$ are values for consumers 1 and 2 in period $t=\\tau$ when they are not allowed to choose.\n",
        "\n",
        "\n",
        "\n",
        "\n",
        "## Diminishing Returns for accumulated wealth \n",
        "\n",
        "The asset increments at every period are the same when consumer's are  maximising assets. This is different from a consumer maximising utility from net wealth. Consumer 1 adds $W(\\nu_{1,t})y_2+(1-W(\\nu_{1,t}))y_1$ at any time period $t$. Unless there is some satiation, there is no reason for the consumer 1 to change $\\nu_{1,t}$ at any time $t$. In that case, we need to explain how exactly is the last period different for the consumer. This can only be done by giving a diminishing utility dependent on $\\tau$. If we don't consider satiation at all, then the solution is much easier as the consumer would always have the same maximal $\\nu_{1,1}=\\nu_{1,2}= ... =\\nu_{1,\\tau-2}= \\nu_{1,\\tau-1}$ while $\\nu_{1,\\tau}=y_1$. If we consider satiation and also that utility from wealth is zero at $\\tau$ then we must either consider utility from social position separately or a utility which tapers at $t=\\tau$.\n",
        "\n",
        "### Tapering utility\n",
        "This requires us to use a judgment on what time of utility would make sense for the consumers (players).\n",
        "### Combined utility\n",
        "\n",
        "This requires a  discussion on whether rich in inferior social position is the same as poor in superior social position.  \n",
        "\n",
        "## Logistic function\n",
        "\n",
        "Other functions such as Possion or exponential do not change their means. But $W(\\nu)$ and $L(\\nu)$ are not distributions of $\\nu$. They're binary distributions with a mean modified by $\\nu$.\n",
        "\n",
        "\n",
        "### Interpreting the Frequency of Promotion\n",
        "\n",
        "While promotions must be balanced by demotions in the long-term , we view  $\\tau$ as the common end-of-life for consumers rather than the common-frequency of loss of wealth. With the common-frequent loss view, one may argue that the rich and poor bear losses that are more frequent than change in income-gap. The setting of income differences changing more slowly than such common-losses is quite limiting. Considering a setting when income differences occur exactly at  (a sufficiently large) $\\tau$, the  poor can be assumed to be promoted more frequently throughout $\\tau$ while the rich get demoted more often at the end of $\\tau$. For example, if $\\tau=10$, then 4 promotions may occur at $\\tau=1$, $\\tau=2$, $\\tau=5$ and $\\tau=8$ whereas 4 demotions may occur at $\\tau=10$ so that the total population is balanced.\n",
        "\n",
        "This interpretation is useful in the end-of-life i.e. consumption under no bequest interpretation as well.  In this setting, we argue that the players simply  don't have a way to transfer wealth - forcing them to put the maximum outlay ($y_1,y_2$ respectively for the poor and rich consumers) towards status at end of life (the choice is conditioned on $\\tau$). The biased population constraint (more promotions throughout) can now be interpreted as more rich losing out to demotion towards their end of life - whereas the poor gain positions in throughout their lives.\n",
        "\n",
        "Accepting the latter intepretation requires arguing failure of bequest as the basis of status consumption. If perfect bequest was possible, the differences between the rich would be so wide that there would be no status competition - but since the rich struggle to pass on the wealth - particularly if they don't come for longer-term status, they need to start over more often. \n",
        "\n",
        "\n",
        "That the rich only lose positions in the end of life is a direct result of economic status being less stable than social status. Since social and economic classes are different, those who do get promoted may not maintain their social status and fail  to carry their social status as often (this is what's observed in the literature as well). The promotions to the rich status may be more frequent, but close to end-of-life, the economic rich but social backward are more likely to lose social status. Since we're interested in the role of consumption overall, the demotion function  does not decide which particular rich are demoted. In other words, consumers with a longer history of economic status (i.e. social status) being favoured for retention of social status does not affect the total number of demotions. \n",
        "\n",
        "The end-of-life interpretation also allows $\\tau$ to be independent of $y_1$, $y_2$. Whether $y_1,y_2$ change as frequently as $\\tau$ is immaterial in the  interpretation because length of life-cycle is not a more fundamental reality than any financial constraint.\n",
        "\n"
      ],
      "metadata": {
        "id": "C5KGFjLuwp01"
      }
    },
    {
      "cell_type": "markdown",
      "source": [
        "### Poission"
      ],
      "metadata": {
        "id": "SDrJksDNMoZI"
      }
    },
    {
      "cell_type": "code",
      "source": [
        "\n",
        "import matplotlib.pyplot as plt\n",
        "from scipy.stats import poisson\n",
        "x=poisson.rvs(mu=3, size=10000)\n",
        "plt.title('number of promotions')\n",
        "p=plt.hist(x, density=True, edgecolor='black')"
      ],
      "metadata": {
        "id": "AQCPqksuMnoj"
      },
      "execution_count": null,
      "outputs": []
    },
    {
      "cell_type": "markdown",
      "source": [
        "### Distribution of $\\tau$ "
      ],
      "metadata": {
        "id": "1uEx96a1Msgr"
      }
    },
    {
      "cell_type": "code",
      "source": [
        "# the various possibilities of tau centered around mu_tau \n",
        "import numpy.random as rnd \n",
        "import matplotlib.pyplot as plt\n",
        "A1=0\n",
        "A2=0\n",
        "mu_tau =1\n",
        "taus= [ rnd.normal(loc=mu_tau) for _ in range(1000)]\n",
        "\n",
        "\n",
        "plt.title(\"$\\\\tau$\")\n",
        "p=plt.hist(taus, bins=100)\n",
        "\n"
      ],
      "metadata": {
        "id": "Uc_252g806lk",
        "colab": {
          "base_uri": "https://localhost:8080/",
          "height": 452
        },
        "outputId": "d36487cb-a05e-414e-83c5-a085874b9727"
      },
      "execution_count": 22,
      "outputs": [
        {
          "output_type": "display_data",
          "data": {
            "text/plain": [
              "<Figure size 640x480 with 1 Axes>"
            ],
            "image/png": "[encoded data removed]"
          },
          "metadata": {}
        }
      ]
    },
    {
      "cell_type": "markdown",
      "source": [
        "## Player decisions based on $\\tau$\n",
        "\n",
        "### Known vs Unknown $\\tau$ \n",
        "The game proceeds by players guessing or assuming a given $\\tau$. They could either infer a $\\tau$ to base their decisions upon by observing last few periods (each corresponding to a different $\\tau$) or by assuming the effective $\\tau$ to be $\\mu_{\\tau}$. In other words, the player would hope to achieve no more than the wealth accumulated over $\\tau$. \n",
        "\n",
        "Whether we assume that $\\mu_{\\tau}$ is known to the players or not is a key part of the model. Since $\\tau$ pertains to risks common to both rich and poor consumers, both players must share the same mechanism for observing $\\tau$. In other words, the savings behaviour of the rich and the poor consumer may differ based on their accumulated assets and incomes, but the risk associated with disappearing of wealth - which is necessitated for a long-term game - is the same for both. Thus the players must observe $\\mu_{\\tau}$ or the same history of $\\tau$ (the latter is relevant if they make their decisions based on past $\\tau$).\n",
        "\n",
        "Assuming that consumers use a $\\mu_{\\tau}$ to make their decisions, both consumers would maintain no assets at $t=\\mu_{\\tau}$. So even though $\\tau$ is random, the consumers would plan for their assets to disappear at $t=\\mu_{\\tau}$. As far as the long-term equilibrium is concerned, it does not matter whether we have $\\tau$ as a random variable or not, because consumer act as if they know the mean. For now, we consider the consumer behaviour with a known $\\tau$.\n",
        "\n",
        "A general $\\tau$ considered for optimisation of assets does however require the risk-neutrality of preferences. This is ignored by considering the constant value of $y_1,y_2$ as well as parameters governing $W(\\nu)$ and $L(\\nu)$ in the period which serves as the short-term horizon of the players/consumers.\n",
        "\n",
        "### Behaviour with known $\\tau$\n",
        "\n",
        "Recall that the consumers always obtain $y_1$ and $y_2$ respecitvely in every period. In the last period $t=\\tau$, all the income ($y_1$ for the poorer consumer and $y_2$ for the richer consumer) is spent on promotion i.e. $\\nu_{1,\\tau}=y_1$ and $\\nu_{2,\\tau}=y_2$. The expected value of their respective asset values at $t=\\tau-1$ is also known to both the consumers - since they act as if they're about to lose the assets at $t=\\tau$ and start over with only $y_1$ and $y_2$ (respectively) at $t=\\tau$ i.e. $A_{1,\\tau}=y_1$ and $A_{2,\\tau}=y_2$.\n",
        "\n",
        "**One issue is that the final expectation is not just made of immediate income** $y_1$ and $y_2$. Knowing the functions $W$ and $L$ - which are independent of $\\tau$ means that their some stability of classes assumed at end-of-life and that the consumers would hope to get more than just the immediate income from the promotion. This can be ignored only if we force a strict reset of roles and therefore the parameters controlling $W$,$L$ as well. $W$,$L$ are therefore not independent on $\\tau$ - if the uncertainty with their parameters forces the consumer to assume only immediate pecuniary gains.\n",
        "\n",
        "\n",
        "\n",
        "If the immediate pecuniary goals can be assumed then,\n",
        "\n",
        "$A_{1,\\tau-1}=W(y_1)y_2+(1-W(y_1))y_1$ \n",
        "\n",
        "$A_{2,\\tau-1}=L(y_2)y_1+(1-L(y_2))y_2$\n",
        "\n",
        "At $t=\\tau-2$, the consumers would set $\\nu^*_{1,\\tau-1}$ and $\\nu^*_{2,\\tau-1}$ so that their respective assets $A_{1,\\tau-2}$ and $A_{2,\\tau-2}$ are maximised by each of them\n",
        "\n",
        "$A_{1,\\tau-2}=W(\\nu^*_{1,\\tau-1})A_{2,\\tau-1}+(1-W(\\nu^*_{1,\\tau-1}))A_{1,\\tau-1}$ \n",
        "\n",
        "$A_{2,\\tau-2}=L(\\nu^*_{2,\\tau-1})A_{1,\\tau-1}+(1-L(\\nu^*_{2,\\tau-1}))A_{2,\\tau-1}$\n",
        "\n",
        "\n",
        "In this manner, the consumer selections $\\nu_{1,1}$, in the very first period would be known in terms of $A_{1,2}$ and $A_{2,2}$. Note that it is not necessary that the consumers would make zero expenditure on $\\nu$ in the first period i.e. $\\nu_{1,1}$ and $\\nu_{2,1}$ could be non-zero. Ultimately, the values of $\\nu_{1,t\\in(0,\\tau)}$ and $\\nu_{2,t\\in (0,\\tau)}$ are a function of $y_1,y_2$ and the parameters corresponding to $W,L$. \n",
        "\n"
      ],
      "metadata": {
        "id": "Sq4dp0hp4TLI"
      }
    },
    {
      "cell_type": "markdown",
      "source": [
        "### Optimal choice for every period\n",
        "With logistic probability we can easily see how either of the consumers may withdraw from promotion consumption in period $\\tau-1$. If $\\underline{\\omega}$ is too high, then the consumer 1 would put up the maximum possible $\\nu$. A key assumption is that parameters like $\\underline{\\omega}$ also don't change with small changes in $y_1$, $y_2$. The idea that the zero-ing of wealth is more frequent than the change in income is important. Otherwise, we won't be able to understand the effect of income-differences. The model therefore imposes a particular setting where consumers do not accumulate beyond a certain level.\n",
        "\n",
        "This newer, detailed view of the setting consider a much larger population where no-one has a means to transfer their wealth (no bequest). The status consumption or effort towards status is strictly the type of consumption that cements their position. That the consumers cement their position - while failing to save for their progeny is - in other words - a key assumption in the model. The consideration of $\\tau$ as a random variable merely aligns the life-times of individuals when considering status competitions as a two player games for positions. $\\tau$ does not depend on $y_1$ or $y_2$ and is exogenous in the model. It is also independent of the parameters of the game - which change so long as the population constraint is satisfied. \n",
        "\n",
        "Notice that in consider the short-term horizon as unit-period which the myopic consumer optimises over, the need for separation between $\\tau$ and unit-period is that of separating life-end bequest needs from short-term needs. $\\tau$ is merely being expressed in terms of unit-periods where status-transfer  becoming important towards end-of-life. There are only a few possible interpretations of $\\nu_1$ and $\\nu_2$ from $y_1$ and $y_2$ over a life time\n",
        "\n",
        "\n",
        "| \\#|Conditions         | Result     | Scenarios |\n",
        "|--|--------------|-----------|------------|\n",
        "|1|$y_1$ and $y_2$ change in every  period and certain long-term parameters<br> of the game (those that are not solved with population or other constraints <br> and $y_1,y_2$) do not change |   $\\nu_1$ and $\\nu_2$ are known as function of $y_1$ and $y_2$ in every period     | possible        |\n",
        "|2| $y_1$ and $y_2$ as well as $W(\\nu)$ and $L(\\nu)$ remain constant throughout <br> the consumers' life      | Change in income differences only possible after end of life <br>( if at all ) | Out-of-scope       |\n",
        "|3| $y_1$ and $y_2$ change - but $W(\\nu)$ and $L(\\nu)$ parameters do not change | competitions are stable - incomes change rapidly | possible as second-priority |\n",
        "|4|$y_1$ and $y_2$ do not change - but $W(\\nu)$ and $L(\\nu)$ parameters do change| competitions change a lot but income differences don't | Out-of-scope | \n",
        "\n",
        "Case 1 is ideal but not easily solvable. We can explore solutions by letting $\\xi$ remains a fixed proportion of $y_1+y_2$. Case 2 requires that we don't consider short-term changes in $y_1$ and $y_2$ - and focus on really long-term changes in $y_1$ and $y_2$ - which would require consumers to adjust $\\nu_1$ and $\\nu_2$ to different incomes. **Case 3** may act as a fallback solution if Case 1 cannot be solved. Alternatively, one may also think of narrowing the context of problems to scenarios where social competitions remain the same - while incomes changes. Given that we have argued population constraint to be active in every period, this is difficult to argue as there is no long-term constraint which consumer selections of $\\nu_1$ and $\\nu_2$ may conform to. This tries to make the difficult argument that short-term (limited horizon/myopic) choices are aware of long-term constraints - and that, when incomes change, the game made with $W(\\nu)$ and $L(\\nu)$ does not change due to it being subjected to long-term constraints. \n",
        "\n",
        "\n",
        "Considering Case 1, let's have $\\xi(\\equiv \\underline{\\omega}+\\underline{\\lambda}$), $y_1$, $y_2$ fixed in the consumer's/player's short-term horizon. Given $\\xi$ as a certain function $f(y_1,y_2)$ of $y_1,y_2$ (e.g. a linear approximation $f(y_1,y_2)=ay_1+by_2$), the poorer consumer must choose $\\nu_1$ in the last period. Similarly, the richer consumer \n",
        "In the shown graphs, the $\\omega$ only changes how the optimal $\\nu$ falls for the poorer consumer (same can be checked for the richer consumer). We have set it to 1 in the rest of the model.\n",
        "\n"
      ],
      "metadata": {
        "id": "C32B684GyKYw"
      }
    },
    {
      "cell_type": "markdown",
      "source": [
        "# Solution\n",
        "\n",
        "If we make no assumption on the game staying the same as incomes change, then we can use the assumption that $\\xi=\\alpha\\times(y_1+y_2)$. This allows  $\\nu_2$ as well as maximisation of assets for richer player(consumer) to be written in terms of $\\nu_1$. When we have two equations for $\\underline{\\omega}$ and $\\nu_1$, we can combine the two maximisations by having a combined asset function $A_1+A_2$ or another function that penalises asset differences $A_2-A_1$. \n",
        "\n",
        "The solution $A_1+A_2$ is weakly Pareto-efficient, but it does not lead us to the Nash Equilibrium. The discussion of Nash equilibrium is important in its own right, i.e. it's important to see how consumer responds to $\\underline{\\omega}$ before we arrive at the Pareto solution.\n",
        "\n",
        "If we consider the updated defintions of $e_1$ and $e_2$, then it makes more sense to solve from $t=1$. The solution is then used for $t+1$ and so on.\n",
        "\n",
        "Consider $W(\\nu)=\\frac{1}{1+e^{-(\\nu-\\underline{\\omega}})}$\n",
        "\n",
        "$L(\\nu)=1-\\frac{1}{1+e^{-(\\nu-\\underline{\\lambda}})}$\n",
        "\n",
        "$E_1(\\nu,A_1,A_2)=W(\\nu)(A_2)+(1-W(\\nu))(A_1)$\n",
        "\n",
        "$E_2(\\nu,A_1,A_2)=L(\\nu)(A_1)+(1-L(\\nu))(A_2)$\n",
        "\n",
        "## Cooperative Equilibrium\n",
        "\n",
        "\n",
        "\n",
        "\n"
      ],
      "metadata": {
        "id": "BOhjtHGce0dx"
      }
    },
    {
      "cell_type": "markdown",
      "source": [
        "## Nash Equilibria\n",
        "In the Nash Equilibrium, we only consider response with respect to a fixed $\\underline{\\omega}$. The choice in the second last period is enough to highlight the effect of $\\underline{\\omega}$, $y_1$ and $ y_2$. \n",
        "\n",
        "Recall that poor and rich players (consumers)  receive $y_1$ and $y_2$ respectively in all periods $t\\in[1,\\tau]$ and there assets reset at $t=\\tau$ - when they're forced to spend on all income on the competition i.e. $\\nu_{1,\\tau}=y_1$ and $\\nu_{2,\\tau}=y_2$. Therefore,\n",
        "\n",
        "$A_{1,\\tau}=e_1$\n",
        "\n",
        "$A_{2,\\tau}=e_2$\n",
        "\n",
        "Notice that the before-effort horizon would mean that $e_1=y_1$ and $e_2=y_2$. \n",
        "\n",
        "$A_{1,\\tau-1}=y_1-\\nu_{1,\\tau-1} +\\frac{ W(\\nu_{1,\\tau=1}) e_2 + (1-W(\\nu_{1,\\tau-1}))e_1}{\\delta} $\n",
        "\n",
        "$A_{2,\\tau-1}=y_2-\\nu_{2,\\tau-1} + \\frac{L(\\nu_{1,\\tau-1})e_1 + (1-L(\\nu_{2,\\tau-1})e_2}{\\delta}$\n",
        "\n",
        "For a $t=\\tau-k$, the maximisation of the following values correspond to the choice of $\\nu_{1,t}$ and $\\nu_{2,t}$.\n",
        "\n",
        "$A_{1,\\tau-k}=y_1-\\nu_{1,\\tau-k} +\\frac{A_{1,\\tau-t-k}}{\\delta}$\n",
        "\n",
        "$A_{2,\\tau-k}=y_2-\\nu_{2,\\tau-k} + \\frac{A_{2,\\tau-t-k}}{\\delta}$\n",
        "\n",
        "The maximisation at every time-period $t$ thus solves $\\nu_{1,t}$ and $\\nu_{2,t}$ in the time-period. Considering the second-last period, the second term does not change very much with $\\nu_1$ - because the contribution $y_1-\\nu$ is high - compared to the potential gain. Therefore, the consumer is unlikely to put any investment in status before this short-term. For the most, this does not change for either of the consumer. \n",
        "\n",
        "We can solve either backward or forward with the optimisation and it seems worthwhile to test with both. When solving forward, we would know about the values of assets at every level and use them to solve the $\\nu_1,\\nu_2$ in the next time period. When solving backwards, \n",
        "\n",
        "\n",
        "$\\frac{d(y_1 - \\nu + \\frac{A_2/d}{1 + e^{-(\\nu - \\underline{\\omega})}} + (1 - \\frac{1}{1 + e^{-(\\nu - \\underline{\\omega})}}) (A_1/d)}{dx} = \\frac{1}{d}\\frac{(A_2-A_1) e^{\\underline{\\omega} - \\nu}}{( 1+e^(\\underline{\\omega} - \\nu) )^2}  - 1$ \n",
        "\n",
        "This is obtained with the Wolfram text: d(y1-x +((1/(1+exp(-(x-w))))* A2 + (1-(1/(1+exp(-(x-w)))))*A1)/d,x)\n",
        "\n",
        "For the "
      ],
      "metadata": {
        "id": "vXGOTeTS7IjZ"
      }
    },
    {
      "cell_type": "markdown",
      "source": [
        "## Library"
      ],
      "metadata": {
        "id": "3IEv5pawNYV2"
      }
    },
    {
      "cell_type": "code",
      "source": [
        "import numpy as np\n",
        "import itertools as itt\n",
        "get_range = lambda y_level, delta : [x for x in itt.takewhile(lambda x: x<y_level,  [y*delta for y in range(0,int(y_level/delta)+1)])]\n",
        "\n",
        "\n",
        "from scipy. optimize import  minimize_scalar\n",
        "\n",
        "#from scipy. optimize import   fsolve\n",
        "\n",
        "\n",
        "def W_func (nu,omega,omega_bar):\n",
        "  return 1/(1+np.exp(-omega*(nu-omega_bar)))\n",
        "\n",
        "\n",
        "def L_func (nu,lambdavar,lambdavar_bar):\n",
        "  return 1-1/(1+np.exp(-lambdavar*(nu-lambdavar_bar)))\n",
        "\n",
        "def A1 (nu,omega,omega_bar, assets1,assets2):\n",
        "  W = W_func (nu=nu,omega=omega,omega_bar=omega_bar)\n",
        "  return W*assets2 + (1-W)*assets1\n",
        "\n",
        "def A2 (nu,lambdavar,lambdavar_bar,assets1,assets2):\n",
        "  L = L_func (nu=nu,lambdavar=lambdavar,lambdavar_bar=lambdavar_bar)\n",
        "  return L*assets1 + (1-L)*assets2\n",
        "\n",
        "def get_solutions (y1,y2,omega,omega_bar,lambdavar,lambdavar_bar):\n",
        "  s1=minimize_scalar(lambda nu: -A1(nu=nu,omega=omega, omega_bar=omega_bar, assets1=y1,assets2=y2),bounds=(0,y1),method='bounded')\n",
        "  s2=minimize_scalar(lambda nu: -A2(nu=nu,lambdavar=lambdavar,lambdavar_bar=lambdavar_bar,assets1=y1,assets2=y2),bounds=(0,y2),method='bounded')\n",
        "  return (s1,s2)\n",
        "\n",
        "def get_all_period_solutions (A0_1, A0_2, y1,y2,omega,omega_bar,lambdavar,lambdavar_bar):\n",
        "  sols1=[]\n",
        "  sols2=[]\n",
        "  assetslists1=[A0_1]\n",
        "  assetslists2=[A0_2]\n",
        "  for t in range(0,4):\n",
        "    print(\"t= %d, using assets1=%f assets2=%f\" % (t,assetslists1[0],assetslists2[0]))\n",
        "    s1=minimize_scalar(lambda nu: -A1(nu=nu,omega=omega, omega_bar=omega_bar, assets1=assetslists1[0],assets2=assetslists2[0]),bounds=(0,y1))\n",
        "    s2=minimize_scalar(lambda nu: -A2(nu=nu,lambdavar=lambdavar,lambdavar_bar=lambdavar_bar,assets1=assetslists1[0],assets2=assetslists2[0]),bounds=(0,y2))\n",
        "    sols1.insert(0,s1.get('x'))\n",
        "    sols2.insert(0,s2.get('x'))\n",
        "    assetslists1.insert(0,-s1.get('fun'))\n",
        "    assetslists2.insert(0,-s2.get('fun'))\n",
        "    print(\"t= %d, Maximum value for player 1: %f at nu=%f\" % (t, -s1.get('fun'), s1.get('x') ))\n",
        "    print(\"t= %d, Maximum value for player 2: %f at nu=%f\" % (t, -s2.get('fun'), s2.get('x') ))\n",
        "  return (s1,s2)\n",
        "\n",
        "\n",
        "\n",
        "print(\"DONE\")\n"
      ],
      "metadata": {
        "colab": {
          "base_uri": "https://localhost:8080/"
        },
        "id": "GauJ_Sk1NXjW",
        "outputId": "ac47bdec-4724-49ab-c108-57a67a2e9f6d"
      },
      "execution_count": 28,
      "outputs": [
        {
          "output_type": "stream",
          "name": "stdout",
          "text": [
            "DONE\n"
          ]
        }
      ]
    },
    {
      "cell_type": "markdown",
      "source": [
        "## Initialisation settings"
      ],
      "metadata": {
        "id": "QbJ8UdZBNGb4"
      }
    },
    {
      "cell_type": "code",
      "source": [
        "y1=1\n",
        "y2=8\n",
        "omega=1\n",
        "lambdavar=1\n",
        "xi=2\n",
        "omegabar=1\n"
      ],
      "metadata": {
        "id": "mM0QeIyWtJ-Q"
      },
      "execution_count": 31,
      "outputs": []
    },
    {
      "cell_type": "code",
      "source": [
        "\n",
        "import matplotlib.pyplot as plt\n",
        "import numpy as np\n",
        "\n",
        "# Wolfram: \n",
        "# treating nu1 as x: the derivative can be arrived at as follows:\n",
        "# d(y1-x +((1/(1+exp(-(x-w))))* A2 + (1-(1/(1+exp(-(x-w)))))*A1)/d,x)\n",
        "# The plots can be seen by setting values of y1, y2, A1, A2, d,w\n",
        "#y1-x +((1/(1+exp(-(x-w))))* A2 + (1-(1/(1+exp(-(x-w)))))*A1)/d\n",
        "#y2-x+ () * A1 + () * A2\n",
        "\n",
        "w=omegabar\n",
        "d=1.1\n",
        "\n",
        "#A1val=(1/(1+np.exp(-omega*(y1-w))))* y2 + (1-(1/(1+np.exp(-omega*(y1-w)))))*y1\n",
        "A1val=y1\n",
        "\n",
        "#A2val=(1-1/(1+np.exp(-(y2-lambdavar*(xi-w)))))*y1 + (1/(1+np.exp(-(y2-lambdavar*(xi-w)))))*y2\n",
        "A2val=y2\n",
        "\n",
        "# plot for 1 at second last period : y1-x +((1/(1+exp(-(x-w))))* A2 + (1-(1/(1+exp(-(x-w)))))*A1)/d\n",
        "# plot for 2 at second last period : y2-x +  (1-1/(1+np.exp(-(x-(xi-w)))))*y1 + (1/(1+np.exp(-(x-(xi-w)))))*y2\n",
        "\n",
        "print(\"y1=%f,y2=%f,d=%f,w=%f,xi=%f,omega=%f,lambdavar=%f,A1val=%f,A2val=%f\" % (y1,y2,d,w,xi,omega,lambdavar,A1val,A2val))\n",
        "\n",
        "figure, axis = plt.subplots(2)\n",
        "xs1= get_range(y1,.1)\n",
        "xs2= get_range(y2,.1)\n",
        "\n",
        "EA1 = [A1(nu=x,omega=omega,omega_bar=w,assets1=A1val,assets2=A2val)/d +y1-x for x in xs1]\n",
        "EA2 = [A2(nu=x,lambdavar=lambdavar,lambdavar_bar=xi-w,assets1=A1val,assets2=A2val)/d+y2-x for x in xs2]\n",
        "\n",
        "axis[0].plot(xs1, EA1)\n",
        "axis[0].set_ybound(0,max(max(EA1),max(EA2))+1)\n",
        "axis[0].set_title(\"$E(A)$ for 1 \")\n",
        "\n",
        "axis[1].plot(xs2, EA2)\n",
        "axis[1].set_ybound(0,max(max(EA1),max(EA2))+1)\n",
        "axis[1].set_title(\"$E(A)$ for 2 \")\n",
        "\n",
        "plt.show()\n"
      ],
      "metadata": {
        "colab": {
          "base_uri": "https://localhost:8080/",
          "height": 471
        },
        "id": "yvebTs1kE7UM",
        "outputId": "0678e6d9-282a-42fc-e124-575865347bba"
      },
      "execution_count": 32,
      "outputs": [
        {
          "output_type": "stream",
          "name": "stdout",
          "text": [
            "y1=1.000000,y2=8.000000,d=1.100000,w=1.000000,xi=2.000000,omega=1.000000,lambdavar=1.000000,A1val=1.000000,A2val=8.000000\n"
          ]
        },
        {
          "output_type": "display_data",
          "data": {
            "text/plain": [
              "<Figure size 640x480 with 2 Axes>"
            ],
            "image/png": "[encoded data removed]"
          },
          "metadata": {}
        }
      ]
    },
    {
      "cell_type": "code",
      "source": [],
      "metadata": {
        "id": "Zagy99kwI3VW"
      },
      "execution_count": 20,
      "outputs": []
    },
    {
      "cell_type": "code",
      "source": [],
      "metadata": {
        "id": "08QwiCUTvH0D",
        "colab": {
          "base_uri": "https://localhost:8080/"
        },
        "outputId": "2f33c800-f485-4e9d-e907-f141b9ed5769"
      },
      "execution_count": 5,
      "outputs": [
        {
          "output_type": "stream",
          "name": "stdout",
          "text": [
            "DONE\n"
          ]
        }
      ]
    },
    {
      "cell_type": "markdown",
      "source": [
        "# Single Period Approach"
      ],
      "metadata": {
        "id": "EkbWQZnXtPr2"
      }
    },
    {
      "cell_type": "code",
      "source": [
        "\n",
        "def get_fwd_all_single_period_solutions_with_plots (y1,y2,omega,omega_bar,lambdavar,lambdavar_bar,r):\n",
        "  print(\"y1=%f,y2=%f,omega=%f,omega_bar=%f,lambdavar=%f,lambdavar_bar=%f,xi=%f,d=%f\" % (y1,y2,omega,omega_bar,lambdavar,lambdavar_bar,xi,1/(1+r)))\n",
        "  numperiods=2\n",
        "  to_plot=True\n",
        "  sols1=[]\n",
        "  sols2=[]\n",
        "  assetslists1=[A1(nu=y1,omega=omega, omega_bar=omega_bar, assets1=y1,assets2=y2)]\n",
        "  assetslists2=[A2(nu=y2,lambdavar=lambdavar,lambdavar_bar=lambdavar_bar,assets1=y1,assets2=y2)]\n",
        "  \n",
        "  if to_plot:\n",
        "    xs1= get_range(y1,.1)\n",
        "    xs2= get_range(y2,.1)  \n",
        "    figure, axis = plt.subplots(numperiods, 2)\n",
        "\n",
        "  for t in range(0,numperiods):\n",
        "    print(\"t= %d, using assets1=%f assets2=%f\" % (t,assetslists1[0],assetslists2[0]))\n",
        "    s1=minimize_scalar(lambda nu: -A1(nu=nu,omega=omega, omega_bar=omega_bar, assets1=assetslists1[0],assets2=assetslists2[0])*(1/(1+r))-y1+nu,bounds=(0,y1),method='bounded')\n",
        "    s2=minimize_scalar(lambda nu: -A2(nu=nu,lambdavar=lambdavar,lambdavar_bar=lambdavar_bar,assets1=assetslists1[0],assets2=assetslists2[0])*(1/(1+r))-y2+nu,bounds=(0,y2),method='bounded')\n",
        "\n",
        "    if to_plot:\n",
        "      EA1 = [A1(nu=x,omega=omega,omega_bar=omega_bar,assets1=assetslists1[0],assets2=assetslists2[0])*(1/(1+r))+y1-x for x in xs1]\n",
        "      EA2 = [A2(nu=x,lambdavar=lambdavar,lambdavar_bar=lambdavar_bar,assets1=assetslists1[0],assets2=assetslists2[0])*(1/(1+r))+y2-x for x in xs2]\n",
        "\n",
        "      axis[t,0].plot(xs1, EA1)\n",
        "      axis[t,0].set_ybound(0,max(max(EA1),max(EA2))+10)\n",
        "      axis[t,0].set_title(\"$E(A)$ for 1 at t=%d\"%t)\n",
        "\n",
        "      axis[t,1].plot(xs2, EA2)\n",
        "      axis[t,1].set_ybound(0,max(max(EA1),max(EA2))+10)\n",
        "      axis[t,1].set_title(\"$E(A)$ for 2 at t=%d\"%t)\n",
        "\n",
        "    sols1.insert(0,s1.get('x'))\n",
        "    sols2.insert(0,s2.get('x'))\n",
        "    assetslists1.insert(0,(-s1.get('fun')))\n",
        "    assetslists2.insert(0,(-s2.get('fun')))\n",
        "    print(\"t= %d, Maximum value for player 1: %f at nu=%f\" % (t, -s1.get('fun'), s1.get('x') ))\n",
        "    print(\"t= %d, Maximum value for player 2: %f at nu=%f\" % (t, -s2.get('fun'), s2.get('x') ))\n",
        "  if to_plot:\n",
        "    plt.show()\n",
        "  return None\n",
        "\n",
        "\n",
        "get_all_single_period_solutions_with_plots (y1=y1,y2=y2,omega=omega,omega_bar=w,lambdavar=lambdavar,lambdavar_bar=xi-w,r=.1)\n",
        "\n",
        "def get_all_single_period_solutions_with_plots (y1,y2,omega,omega_bar,lambdavar,lambdavar_bar,r):\n",
        "  print(\"y1=%f,y2=%f,omega=%f,omega_bar=%f,lambdavar=%f,lambdavar_bar=%f,xi=%f,d=%f\" % (y1,y2,omega,omega_bar,lambdavar,lambdavar_bar,xi,1/(1+r)))\n",
        "  numperiods=10\n",
        "  to_plot=True\n",
        "  sols1=[]\n",
        "  sols2=[]\n",
        "  assetslists1=[A1(nu=y1,omega=omega, omega_bar=omega_bar, assets1=y1,assets2=y2)]\n",
        "  assetslists2=[A2(nu=y2,lambdavar=lambdavar,lambdavar_bar=lambdavar_bar,assets1=y1,assets2=y2)]\n",
        "  \n",
        "  if to_plot:\n",
        "    xs1= get_range(y1,.1)\n",
        "    xs2= get_range(y2,.1)  \n",
        "    figure, axis = plt.subplots(numperiods, 2)\n",
        "\n",
        "  for t in range(0,numperiods):\n",
        "    print(\"t= %d, using assets1=%f assets2=%f\" % (t,assetslists1[0],assetslists2[0]))\n",
        "    s1=minimize_scalar(lambda nu: -A1(nu=nu,omega=omega, omega_bar=omega_bar, assets1=assetslists1[0],assets2=assetslists2[0])*(1/(1+r))-y1+nu,bounds=(0,y1),method='bounded')\n",
        "    s2=minimize_scalar(lambda nu: -A2(nu=nu,lambdavar=lambdavar,lambdavar_bar=lambdavar_bar,assets1=assetslists1[0],assets2=assetslists2[0])*(1/(1+r))-y2+nu,bounds=(0,y2),method='bounded')\n",
        "\n",
        "    if to_plot:\n",
        "      EA1 = [A1(nu=x,omega=omega,omega_bar=omega_bar,assets1=assetslists1[0],assets2=assetslists2[0])*(1/(1+r))+y1-x for x in xs1]\n",
        "      EA2 = [A2(nu=x,lambdavar=lambdavar,lambdavar_bar=lambdavar_bar,assets1=assetslists1[0],assets2=assetslists2[0])*(1/(1+r))+y2-x for x in xs2]\n",
        "\n",
        "      axis[t,0].plot(xs1, EA1)\n",
        "      axis[t,0].set_ybound(0,max(max(EA1),max(EA2))+10)\n",
        "      axis[t,0].set_title(\"$E(A)$ for 1 at t=%d\"%t)\n",
        "\n",
        "      axis[t,1].plot(xs2, EA2)\n",
        "      axis[t,1].set_ybound(0,max(max(EA1),max(EA2))+10)\n",
        "      axis[t,1].set_title(\"$E(A)$ for 2 at t=%d\"%t)\n",
        "\n",
        "    sols1.insert(0,s1.get('x'))\n",
        "    sols2.insert(0,s2.get('x'))\n",
        "    assetslists1.insert(0,(-s1.get('fun')))\n",
        "    assetslists2.insert(0,(-s2.get('fun')))\n",
        "    print(\"t= %d, Maximum value for player 1: %f at nu=%f\" % (t, -s1.get('fun'), s1.get('x') ))\n",
        "    print(\"t= %d, Maximum value for player 2: %f at nu=%f\" % (t, -s2.get('fun'), s2.get('x') ))\n",
        "  if to_plot:\n",
        "    plt.show()\n",
        "  return None\n",
        "\n",
        "\n",
        "# PROBLEMATIC due to old definition of E_1, E_2: get_all_single_period_solutions_with_plots (y1=y1,y2=y2,omega=omega,omega_bar=w,lambdavar=lambdavar,lambdavar_bar=xi-w,r=.1)\n",
        "\n"
      ],
      "metadata": {
        "colab": {
          "base_uri": "https://localhost:8080/",
          "height": 992
        },
        "id": "8stSTwqhtTz8",
        "outputId": "455c3d09-8050-444e-9c7c-b030c15bb1a1"
      },
      "execution_count": null,
      "outputs": [
        {
          "output_type": "stream",
          "name": "stdout",
          "text": [
            "y1=1.000000,y2=5.000000,omega=1.000000,omega_bar=1.300000,lambdavar=1.000000,lambdavar_bar=0.100000,xi=1.400000,d=0.909091\n",
            "t= 0, using assets1=2.702230 assets2=4.970434\n",
            "t= 0, Maximum value for player 1: 3.898178 at nu=0.000006\n",
            "t= 0, Maximum value for player 2: 8.436065 at nu=0.000004\n",
            "t= 1, using assets1=3.898178 assets2=8.436065\n",
            "t= 1, Maximum value for player 1: 5.427302 at nu=0.000006\n",
            "t= 1, Maximum value for player 2: 10.513803 at nu=0.452228\n",
            "t= 2, using assets1=5.427302 assets2=10.513803\n",
            "t= 2, Maximum value for player 1: 6.924228 at nu=0.000006\n",
            "t= 2, Maximum value for player 2: 12.224574 at nu=0.870773\n",
            "t= 3, using assets1=6.924228 assets2=12.224574\n",
            "t= 3, Maximum value for player 1: 8.345299 at nu=0.999994\n",
            "t= 3, Maximum value for player 2: 13.720576 at nu=0.976391\n",
            "t= 4, using assets1=8.345299 assets2=13.720576\n",
            "t= 4, Maximum value for player 1: 9.666170 at nu=0.999994\n",
            "t= 4, Maximum value for player 2: 15.060793 at nu=1.009888\n",
            "t= 5, using assets1=9.666170 assets2=15.060793\n",
            "t= 5, Maximum value for player 1: 10.874446 at nu=0.999994\n",
            "t= 5, Maximum value for player 2: 16.274139 at nu=1.018289\n",
            "t= 6, using assets1=10.874446 assets2=16.274139\n",
            "t= 6, Maximum value for player 1: 11.974841 at nu=0.999994\n",
            "t= 6, Maximum value for player 2: 17.375868 at nu=1.020475\n",
            "t= 7, using assets1=11.974841 assets2=17.375868\n",
            "t= 7, Maximum value for player 1: 12.975715 at nu=0.999994\n",
            "t= 7, Maximum value for player 2: 18.377093 at nu=1.021049\n",
            "t= 8, using assets1=12.975715 assets2=18.377093\n",
            "t= 8, Maximum value for player 1: 13.885737 at nu=0.999994\n",
            "t= 8, Maximum value for player 2: 19.287208 at nu=1.021200\n",
            "t= 9, using assets1=13.885737 assets2=19.287208\n",
            "t= 9, Maximum value for player 1: 14.713065 at nu=0.999994\n",
            "t= 9, Maximum value for player 2: 20.114560 at nu=1.021239\n"
          ]
        },
        {
          "output_type": "display_data",
          "data": {
            "text/plain": [
              "<Figure size 640x480 with 20 Axes>"
            ],
            "image/png": "[encoded data removed]"
          },
          "metadata": {}
        }
      ]
    },
    {
      "cell_type": "markdown",
      "source": [
        "# Multiple Periods Approach"
      ],
      "metadata": {
        "id": "hEq_Y7VbtUG-"
      }
    },
    {
      "cell_type": "code",
      "source": [
        "\n",
        "import matplotlib.pyplot as plt\n",
        "\n",
        "\n",
        "def get_all_period_solutions_with_plots (A0_1, A0_2, y1,y2,omega,omega_bar,lambdavar,lambdavar_bar,r):\n",
        "  to_plot=False\n",
        "  sols1=[]\n",
        "  sols2=[]\n",
        "  assetslists1=[A0_1]\n",
        "  assetslists2=[A0_2]\n",
        "  xs1= get_range(y1,.1)\n",
        "  xs2= get_range(y2,.1)\n",
        "  \n",
        "  if to_plot:\n",
        "    figure, axis = plt.subplots(10, 2)\n",
        "  for t in range(0,10):\n",
        "    print(\"t= %d, using assets1=%f assets2=%f\" % (t,assetslists1[0],assetslists2[0]))\n",
        "    s1=minimize_scalar(lambda nu: -A1(nu=nu,omega=omega, omega_bar=omega_bar, assets1=assetslists1[0],assets2=assetslists2[0]),bounds=(0,y1),method='bounded')\n",
        "    s2=minimize_scalar(lambda nu: -A2(nu=nu,lambdavar=lambdavar,lambdavar_bar=lambdavar_bar,assets1=assetslists1[0],assets2=assetslists2[0]),bounds=(0,y2),method='bounded')\n",
        "\n",
        "    if to_plot:\n",
        "      EA1 = [A1(nu=x,omega=omega,omega_bar=omega_bar,assets1=assetslists1[0],assets2=assetslists2[0]) for x in xs1]\n",
        "      EA2 = [A2(nu=x,lambdavar=lambdavar,lambdavar_bar=lambdavar_bar,assets1=assetslists1[0],assets2=assetslists2[0]) for x in xs2]\n",
        "\n",
        "      axis[t,0].plot(xs1, EA1)\n",
        "      axis[t,0].set_ybound(0,max(max(EA1),max(EA2))+10)\n",
        "      axis[t,0].set_title(\"$E(A)$ for 1 at t=%d\"%t)\n",
        "\n",
        "      axis[t,1].plot(xs2, EA2)\n",
        "      axis[t,1].set_ybound(0,max(max(EA1),max(EA2))+10)\n",
        "      axis[t,1].set_title(\"$E(A)$ for 2 at t=%d\"%t)\n",
        "\n",
        "    sols1.insert(0,s1.get('x'))\n",
        "    sols2.insert(0,s2.get('x'))\n",
        "    assetslists1.insert(0,(1/(1+r))*(-s1.get('fun')+y1-s1.get('x')))\n",
        "    assetslists2.insert(0,(1/(1+r))*(-s2.get('fun')+y2-s2.get('x')))\n",
        "    print(\"t= %d, Maximum value for player 1: %f at nu=%f\" % (t, -s1.get('fun'), s1.get('x') ))\n",
        "    print(\"t= %d, Maximum value for player 2: %f at nu=%f\" % (t, -s2.get('fun'), s2.get('x') ))\n",
        "  if to_plot:\n",
        "    plt.show()\n",
        "  return None\n",
        "  \n",
        "get_all_period_solutions_with_plots (A0_1=10, A0_2=200, y1=10,y2=20,omega=1,omega_bar=3,lambdavar=1,lambdavar_bar=2,r=.3)\n"
      ],
      "metadata": {
        "colab": {
          "base_uri": "https://localhost:8080/"
        },
        "id": "kEIgCgwrHp3N",
        "outputId": "2372f5e1-bc8a-44ff-94dc-b65baf078600"
      },
      "execution_count": null,
      "outputs": [
        {
          "output_type": "stream",
          "name": "stdout",
          "text": [
            "t= 0, using assets1=10.000000 assets2=200.000000\n",
            "t= 0, Maximum value for player 1: 199.826900 at nu=9.999996\n",
            "t= 0, Maximum value for player 2: 199.999997 at nu=19.999994\n",
            "t= 1, using assets1=153.713003 assets2=153.846156\n",
            "t= 1, Maximum value for player 1: 153.846035 at nu=9.999996\n",
            "t= 1, Maximum value for player 2: 153.846156 at nu=19.999996\n",
            "t= 2, using assets1=118.343107 assets2=118.343200\n",
            "t= 2, Maximum value for player 1: 118.343200 at nu=9.999996\n",
            "t= 2, Maximum value for player 2: 118.343200 at nu=19.966575\n",
            "t= 3, using assets1=91.033233 assets2=91.058943\n",
            "t= 3, Maximum value for player 1: 91.058919 at nu=9.999996\n",
            "t= 3, Maximum value for player 2: 91.058943 at nu=19.999996\n",
            "t= 4, using assets1=70.045325 assets2=70.045343\n",
            "t= 4, Maximum value for player 1: 70.045343 at nu=9.999996\n",
            "t= 4, Maximum value for player 2: 70.045343 at nu=19.983337\n",
            "t= 5, using assets1=53.881036 assets2=53.893851\n",
            "t= 5, Maximum value for player 1: 53.893839 at nu=9.999996\n",
            "t= 5, Maximum value for player 2: 53.893851 at nu=19.999942\n",
            "t= 6, using assets1=41.456802 assets2=41.456853\n",
            "t= 6, Maximum value for player 1: 41.456853 at nu=9.999996\n",
            "t= 6, Maximum value for player 2: 41.456853 at nu=19.987260\n",
            "t= 7, using assets1=31.889889 assets2=31.899687\n",
            "t= 7, Maximum value for player 1: 31.899678 at nu=9.999996\n",
            "t= 7, Maximum value for player 2: 31.899687 at nu=19.999996\n",
            "t= 8, using assets1=24.538217 assets2=24.538224\n",
            "t= 8, Maximum value for player 1: 24.538223 at nu=9.999996\n",
            "t= 8, Maximum value for player 2: 24.538224 at nu=19.951123\n",
            "t= 9, using assets1=18.875559 assets2=18.913154\n",
            "t= 9, Maximum value for player 1: 18.913120 at nu=9.999996\n",
            "t= 9, Maximum value for player 2: 18.913154 at nu=19.999994\n"
          ]
        }
      ]
    },
    {
      "cell_type": "code",
      "source": [
        "\n",
        "A0_1=199.448070 \n",
        "A0_2=199.990467\n",
        "\n",
        "\n",
        "EA1 = [A1(nu=x,omega=omega,omega_bar=omega_bar,assets1=A0_1,assets2=A0_2) for x in xs1]\n",
        "EA2 = [A2(nu=x,lambdavar=lambdavar,lambdavar_bar=lambdavar_bar,assets1=A0_1,assets2=A0_2) for x in xs2]\n",
        "figure, axis = plt.subplots(1, 2)\n",
        "\n",
        "axis[0].plot(xs1, EA1)\n",
        "axis[0].set_ybound(0,max(max(EA1),max(EA2))+10)\n",
        "axis[1].plot(xs2, EA2)\n",
        "axis[1].set_ybound(0,max(max(EA1),max(EA2))+10)\n",
        "\n"
      ],
      "metadata": {
        "colab": {
          "base_uri": "https://localhost:8080/",
          "height": 265
        },
        "id": "NaTY3TBlKZrR",
        "outputId": "1c5d853c-d398-4dc1-cde3-edfddd1709e9"
      },
      "execution_count": null,
      "outputs": [
        {
          "output_type": "display_data",
          "data": {
            "text/plain": [
              "<Figure size 432x288 with 2 Axes>"
            ],
            "image/png": "[encoded data removed]"
          },
          "metadata": {
            "needs_background": "light"
          }
        }
      ]
    },
    {
      "cell_type": "code",
      "source": [],
      "metadata": {
        "colab": {
          "base_uri": "https://localhost:8080/"
        },
        "id": "P2VZVP9DP9z6",
        "outputId": "ac23307d-cf10-4a6f-e374-05f8fe468a64"
      },
      "execution_count": null,
      "outputs": [
        {
          "output_type": "stream",
          "name": "stdout",
          "text": [
            "t= 0, using assets1=10.000000 assets2=200.000000\n",
            "t= 0, Maximum value for player 1: 199.990467 at nu=9.999996\n",
            "t= 0, Maximum value for player 2: 198.848631 at nu=19.999994\n",
            "t= 1, using assets1=-199.990467 assets2=-198.848631\n",
            "t= 1, Maximum value for player 1: -198.848688 at nu=9.999996\n",
            "t= 1, Maximum value for player 2: -198.855550 at nu=19.999994\n",
            "t= 2, using assets1=198.848688 assets2=198.855550\n",
            "t= 2, Maximum value for player 1: 198.855550 at nu=9.999996\n",
            "t= 2, Maximum value for player 2: 198.855509 at nu=19.999994\n",
            "t= 3, using assets1=-198.855550 assets2=-198.855509\n",
            "t= 3, Maximum value for player 1: -198.855509 at nu=9.999973\n",
            "t= 3, Maximum value for player 2: -198.855509 at nu=19.999994\n"
          ]
        }
      ]
    },
    {
      "cell_type": "markdown",
      "source": [
        "## Testing with specific values of $\\underline{\\omega}$"
      ],
      "metadata": {
        "id": "fuyGm-wEJJJC"
      }
    },
    {
      "cell_type": "code",
      "source": [
        "#### Selecting a specific omega_bar ###\n",
        "omega_bar=0.1\n",
        "lambdavar_bar = xi-omega_bar\n",
        "print(\"omega_bar=%f\"%omega_bar)\n",
        "print(\"lambdavar_bar=%f\"%lambdavar_bar)\n"
      ],
      "metadata": {
        "colab": {
          "base_uri": "https://localhost:8080/"
        },
        "id": "7YpIE-JXJqk8",
        "outputId": "c8570b16-3b1d-4078-992f-95a6411c8567"
      },
      "execution_count": null,
      "outputs": [
        {
          "output_type": "stream",
          "name": "stdout",
          "text": [
            "omega_bar=0.100000\n",
            "lambdavar_bar=14.900000\n"
          ]
        }
      ]
    },
    {
      "cell_type": "markdown",
      "source": [
        "### Plots of $W$ and $L$"
      ],
      "metadata": {
        "id": "0gJv69KZJz6M"
      }
    },
    {
      "cell_type": "code",
      "source": [
        "print(\"omega_bar=%f\"%omega_bar)\n",
        "print(\"lambdavar_bar=%f\"%lambdavar_bar)\n",
        "\n",
        "nu1plots = get_range(y1,.1)\n",
        "nu2plots = get_range(y2,.1)\n",
        "\n",
        "Ws  = [ W_func (nu=x,omega=omega,omega_bar=omega_bar) for x in nu1plots]\n",
        "Ls  = [ L_func (nu=x,lambdavar=lambdavar,lambdavar_bar=lambdavar_bar) for x in nu2plots]\n",
        "figure, axis = plt.subplots(1, 2)\n",
        "axis[0].plot(nu1plots,Ws )\n",
        "axis[0].set_title(\"$W$\")\n",
        "axis[0].set_ybound(-.1,1.1)\n",
        "\n",
        "\n",
        "axis[1].plot(nu2plots,Ls)\n",
        "axis[1].set_title(\"$L$\")\n",
        "axis[1].set_ybound(-.1,1.1)\n",
        "\n",
        "plt.show()"
      ],
      "metadata": {
        "colab": {
          "base_uri": "https://localhost:8080/",
          "height": 316
        },
        "id": "Cb_OFgWOJ0JE",
        "outputId": "78b1f3e4-f3f9-4789-c988-5f2e9fb67171"
      },
      "execution_count": null,
      "outputs": [
        {
          "output_type": "stream",
          "name": "stdout",
          "text": [
            "omega_bar=0.100000\n",
            "lambdavar_bar=14.900000\n"
          ]
        },
        {
          "output_type": "display_data",
          "data": {
            "text/plain": [
              "<Figure size 432x288 with 2 Axes>"
            ],
            "image/png": "[encoded data removed]"
          },
          "metadata": {
            "needs_background": "light"
          }
        }
      ]
    },
    {
      "cell_type": "markdown",
      "source": [
        "### Comparison of assets based on optimal selection of $\\nu_1$ and $\\nu_2$"
      ],
      "metadata": {
        "id": "1PdpQ4jRKHp8"
      }
    },
    {
      "cell_type": "code",
      "source": [
        "\n",
        "import matplotlib.pyplot as plt\n",
        "import itertools as itt\n",
        "get_range = lambda y_level, delta : [x for x in itt.takewhile(lambda x: x<y_level,  [y*delta for y in range(0,int(y_level/delta)+1)])]\n",
        "\n",
        "\n",
        "figure, axis = plt.subplots(1, 2)\n",
        "\n",
        "xs1= get_range(y1,.1)\n",
        "xs2= get_range(y2,.1)\n",
        "EA1 = [A1(nu=x,omega=omega,omega_bar=omega_bar,assets1=y1,assets2=y2) for x in xs1]\n",
        "EA2 = [A2(nu=x,lambdavar=lambdavar,lambdavar_bar=lambdavar_bar,assets1=y1,assets2=y2) for x in xs2]\n",
        "\n",
        "axis[0].plot(xs1, EA1)\n",
        "axis[0].set_title(\"$E(A)$ for 1\")\n",
        "\n",
        "\n",
        "axis[1].plot(xs2, EA2)\n",
        "axis[1].set_title(\"$E(A)$ for 2\")\n",
        "\n",
        "#s1,s2 = get_solutions(y1=y1,y2=y2,omega=omega,omega_bar=omega_bar,lambdavar=lambdavar,lambdavar_bar=lambdavar_bar)\n",
        "s1,s2 = get_all_period_solutions (A0_1=10, A0_2=200, y1=y1,y2=y2,omega=omega,omega_bar=omega_bar,lambdavar=lambdavar,lambdavar_bar=lambdavar_bar)\n",
        "\n",
        "print(\"Maximum value for player 1: %f at nu=%f\" % (-s1.get('fun'), s1.get('x') ))\n",
        "print(\"Maximum value for player 2: %f at nu=%f\" % (-s2.get('fun'), s2.get('x') ))\n",
        "\n",
        "plt.show()"
      ],
      "metadata": {
        "colab": {
          "base_uri": "https://localhost:8080/",
          "height": 318
        },
        "id": "z-T-1N7mlV4m",
        "outputId": "e11ed840-a087-4826-d2ba-7a190e226cda"
      },
      "execution_count": null,
      "outputs": [
        {
          "output_type": "stream",
          "name": "stdout",
          "text": [
            "Maximum value for player 1: 199.990467 at nu=9.999996\n",
            "Maximum value for player 2: 198.848631 at nu=19.999994\n"
          ]
        },
        {
          "output_type": "display_data",
          "data": {
            "text/plain": [
              "<Figure size 432x288 with 2 Axes>"
            ],
            "image/png": "[encoded data removed]"
          },
          "metadata": {
            "needs_background": "light"
          }
        }
      ]
    },
    {
      "cell_type": "markdown",
      "source": [
        "## Plots of optimal $\\nu_{1,\\tau}$ and $\\nu_{2,\\tau}$ and assets with respect to $\\underline{\\omega}$\n",
        "\n",
        "In the last period $\\tau$, we see that increasing $\\underline{\\omega}$ keeps $\\nu_{1,\\tau}$ at zero and $\\nu_{2,\\tau}$ at the maximum value $y_2$."
      ],
      "metadata": {
        "id": "bITAACclIqaG"
      }
    },
    {
      "cell_type": "code",
      "source": [
        "omega_bars=[y1+k-2 for k in get_range(y2-y1,.1)]\n",
        "s1s=[]\n",
        "s2s=[]\n",
        "A1s=[]\n",
        "A2s=[]\n",
        "lambda_bars=[]\n",
        "for i,obar in enumerate(omega_bars):\n",
        "  lbar = xi- obar\n",
        "  s1,s2 = get_solutions(y1=y1,y2=y2,omega=omega,omega_bar=obar,lambdavar=lambdavar,lambdavar_bar=lbar)\n",
        "  lambda_bars.append(lbar)\n",
        "  s1s.append(s1.get('x'))\n",
        "  A1s.append(-s1.get('fun'))\n",
        "  s2s.append(s2.get('x'))\n",
        "  A2s.append(-s2.get('fun'))\n",
        "  "
      ],
      "metadata": {
        "id": "vMSCqNt5mGDz"
      },
      "execution_count": null,
      "outputs": []
    },
    {
      "cell_type": "code",
      "source": [
        "figure, axis = plt.subplots(2, 1)\n",
        "axis[0].plot(omega_bars,s1s )\n",
        "axis[0].set_title(\"$\\\\nu_{1,\\\\tau}$\")\n",
        "axis[0].set_ybound(-1,max([y1,y2])+1)\n",
        "\n",
        "\n",
        "axis[1].plot(omega_bars,s2s)\n",
        "axis[1].set_title(\"$\\\\nu_{2,\\\\tau}$\")\n",
        "axis[1].set_ybound(-1,max([y1,y2])+1)\n",
        "\n",
        "plt.show()\n",
        "\n"
      ],
      "metadata": {
        "colab": {
          "base_uri": "https://localhost:8080/",
          "height": 281
        },
        "id": "KjqYSqLdKHqB",
        "outputId": "c0b2775d-66eb-46e7-dfba-c4d156cb0510"
      },
      "execution_count": null,
      "outputs": [
        {
          "output_type": "display_data",
          "data": {
            "text/plain": [
              "<Figure size 432x288 with 2 Axes>"
            ],
            "image/png": "[encoded data removed]"
          },
          "metadata": {
            "needs_background": "light"
          }
        }
      ]
    },
    {
      "cell_type": "code",
      "source": [
        "figure, axis = plt.subplots(2, 1)\n",
        "axis[0].plot(omega_bars,A1s)\n",
        "axis[0].set_title(\"$A_{1,\\\\tau}$\")\n",
        "axis[0].set_ybound(-1,max(A1s+A2s)+1)\n",
        "\n",
        "axis[1].plot(lambda_bars,A2s)\n",
        "axis[1].set_title(\"$A_{2,\\\\tau}$\")\n",
        "axis[1].set_ybound(-1,max(A1s+A2s)+1)\n",
        "plt.show()\n"
      ],
      "metadata": {
        "colab": {
          "base_uri": "https://localhost:8080/",
          "height": 283
        },
        "id": "2xPWW2oj_CHE",
        "outputId": "66fc44a7-5cae-4521-abf1-c7d9a4952f1d"
      },
      "execution_count": null,
      "outputs": [
        {
          "output_type": "display_data",
          "data": {
            "text/plain": [
              "<Figure size 432x288 with 2 Axes>"
            ],
            "image/png": "[encoded data removed]"
          },
          "metadata": {
            "needs_background": "light"
          }
        }
      ]
    },
    {
      "cell_type": "markdown",
      "source": [
        "## Long-term values\n",
        "Considering the long-term values  $\\mathscr{A}_1$ and  $\\mathscr{A}_2$, the consumers only consider that value in the period $\\tau$ whereas in all other periods they considers the additional value. By assuming it's external we can quantify how much social differences 'matter' in an economy. If it's possible to consider sale of social positions in an external market (not to each other - which would defeat the purpose of social positions), then this would be the reservation price of any of the social position. \n",
        "\n",
        "The players wish to increase their net value on top of  $\\mathscr{A}_1$ and  $\\mathscr{A}_2$ respectively - while knowing that the values would be reset to $\\mathscr{A}_1$ and  $\\mathscr{A}_2$ at $\\tau$. Since the consumers always consider the discounted value - which are clearly additive in case of assets, those much before $\\tau$ would compare with the discounted value of the loss. \n",
        "\n",
        "The argument is that of real-life that only certain social value - represented by $\\mathscr{A}_1$ and $\\mathscr{A}_2$ respectively - is bequested to the progeny. The accumulations matter but they disappear except for the social value at every period $\\tau$."
      ],
      "metadata": {
        "id": "sMEO0Dn198VN"
      }
    }
  ]
}